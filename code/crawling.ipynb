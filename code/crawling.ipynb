{
 "cells": [
  {
   "cell_type": "code",
   "execution_count": 2,
   "metadata": {},
   "outputs": [],
   "source": [
    "import pandas as pd\n",
    "\n",
    "from sa_package.my_selenium import get_driver\n",
    "from sa_package.my_gspread import write_df_to_sh"
   ]
  },
  {
   "cell_type": "markdown",
   "metadata": {},
   "source": [
    "# Selenium Driver 불러오기"
   ]
  },
  {
   "cell_type": "code",
   "execution_count": 3,
   "metadata": {},
   "outputs": [
    {
     "name": "stderr",
     "output_type": "stream",
     "text": [
      "[WDM] - Downloading: 100%|██████████| 6.46M/6.46M [00:00<00:00, 23.3MB/s]\n"
     ]
    }
   ],
   "source": [
    "driver = get_driver()"
   ]
  },
  {
   "cell_type": "code",
   "execution_count": 4,
   "metadata": {},
   "outputs": [],
   "source": [
    "driver.get(\"https://game.naver.com/ranking/top/daily\")"
   ]
  },
  {
   "cell_type": "markdown",
   "metadata": {},
   "source": [
    "# 페이지 내용 읽기"
   ]
  },
  {
   "cell_type": "code",
   "execution_count": 8,
   "metadata": {},
   "outputs": [],
   "source": [
    "from bs4 import BeautifulSoup\n",
    "\n",
    "html = driver.page_source\n",
    "soup = BeautifulSoup(html, \"html.parser\")\n",
    "#print(soup)"
   ]
  },
  {
   "cell_type": "code",
   "execution_count": 14,
   "metadata": {},
   "outputs": [
    {
     "name": "stdout",
     "output_type": "stream",
     "text": [
      "100\n",
      "<li class=\"ranking_list_item__2kpJr\"><div class=\"lounge_item_wrap__1tfod\"><button class=\"lounge_item_lounge__1VWSu\" type=\"button\"><span class=\"lounge_item_rank_area__9CMsX\"><strong class=\"lounge_item_rank__2O7_v\">1</strong><span class=\"lounge_item_rank_status__3x80u lounge_item_equal__21vne\"></span></span><span class=\"lounge_item_thumbnail_area__1aAHo\" style='background-image: url(\"https://nng-phinf.pstatic.net/MjAyMTA5MDhfMTk3/MDAxNjMxMDY4NDk3MzYx.xJYcVzRN9rJhjo_Wk3glFkqgEEQYbCAxnd49BK_L5dwg.0drLMwYFCWTAYc7e0Cy0zQUEWC-kFXEM79k__1uN7Ukg.PNG/League_of_Legends.png\"), url(\"https://nng-phinf.pstatic.net/MjAyMTA0MzBfNjAg/MDAxNjE5NzczMzI0OTEx.yZhA1c6Slf68dURtJLkXZFC7RDx-jFCR9zrQcXNgWx0g.XhMJO6ugRer_fgHuKUgh9imNUp1FjyESWxYWNlOUuTMg.PNG/150-x-1502x.png\");'></span><span class=\"lounge_item_info__3kf7q\"><span class=\"lounge_item_name_wrap__1C2mF\"><strong class=\"lounge_item_name__2SBpA\">리그 오브 레전드</strong></span><span class=\"lounge_item_sub__29Ye0\">MOBA</span></span></button><div class=\"lounge_item_bookmark_area__1_gjz\"><button class=\"bookmark_button__1YPAR\" type=\"button\"><span class=\"blind\">즐겨찾기 추가</span></button></div></div></li>\n"
     ]
    }
   ],
   "source": [
    "game_list = soup.select(\"#root > div > div.ranking_container__2XBZD > div > div.ranking_list_wrap__3E2TP > ol > li\")\n",
    "print(len(game_list))\n",
    "print(game_list[0])\n"
   ]
  },
  {
   "cell_type": "code",
   "execution_count": 19,
   "metadata": {},
   "outputs": [
    {
     "name": "stdout",
     "output_type": "stream",
     "text": [
      "[<strong class=\"lounge_item_name__2SBpA\">리그 오브 레전드</strong>]\n",
      "리그 오브 레전드\n"
     ]
    }
   ],
   "source": [
    "game_name = game_list[0].select(\".lounge_item_name__2SBpA\")\n",
    "print(game_name)\n",
    "print(game_name[0].text)\n"
   ]
  },
  {
   "cell_type": "markdown",
   "metadata": {},
   "source": [
    "# 읽은 내용 정리해서 스프레드시트에 올리기"
   ]
  },
  {
   "cell_type": "code",
   "execution_count": null,
   "metadata": {},
   "outputs": [],
   "source": [
    "for i in range(len(game_list)):\n",
    "    game_name = game_list[i].select(\".lounge_item_name__2SBpA\")[0].text\n",
    "    "
   ]
  }
 ],
 "metadata": {
  "kernelspec": {
   "display_name": "Python 3.9.13 ('coding_day_conda')",
   "language": "python",
   "name": "python3"
  },
  "language_info": {
   "codemirror_mode": {
    "name": "ipython",
    "version": 3
   },
   "file_extension": ".py",
   "mimetype": "text/x-python",
   "name": "python",
   "nbconvert_exporter": "python",
   "pygments_lexer": "ipython3",
   "version": "3.9.13"
  },
  "orig_nbformat": 4,
  "vscode": {
   "interpreter": {
    "hash": "5117a1db902477c4f3c0e2233aad3365d8be95d056e207dee73b7978aa68a79b"
   }
  }
 },
 "nbformat": 4,
 "nbformat_minor": 2
}
