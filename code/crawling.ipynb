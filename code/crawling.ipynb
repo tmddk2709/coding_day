{
 "cells": [
  {
   "cell_type": "code",
   "execution_count": 27,
   "metadata": {},
   "outputs": [],
   "source": [
    "import pandas as pd\n",
    "from sa_package.my_selenium import get_driver"
   ]
  },
  {
   "cell_type": "markdown",
   "metadata": {},
   "source": [
    "# Selenium Driver 불러오기"
   ]
  },
  {
   "cell_type": "code",
   "execution_count": 28,
   "metadata": {},
   "outputs": [],
   "source": [
    "driver = get_driver()"
   ]
  },
  {
   "cell_type": "code",
   "execution_count": 29,
   "metadata": {},
   "outputs": [],
   "source": [
    "driver.get(\"https://game.naver.com/ranking/top/daily\")"
   ]
  },
  {
   "cell_type": "markdown",
   "metadata": {},
   "source": [
    "# 페이지 내용 읽기"
   ]
  },
  {
   "cell_type": "code",
   "execution_count": 31,
   "metadata": {},
   "outputs": [],
   "source": [
    "from bs4 import BeautifulSoup\n",
    "\n",
    "html = driver.page_source\n",
    "soup = BeautifulSoup(html, \"html.parser\")\n",
    "# print(soup)\n",
    "#root > div > div.ranking_container__2XBZD > div > div.ranking_list_wrap__3E2TP > ol:nth-child(1) > li:nth-child(1) > div > button > span.lounge_item_info__3kf7q > span.lounge_item_name_wrap__1C2mF > strong"
   ]
  },
  {
   "cell_type": "code",
   "execution_count": 32,
   "metadata": {},
   "outputs": [
    {
     "name": "stdout",
     "output_type": "stream",
     "text": [
      "100\n",
      "<li class=\"ranking_list_item__2kpJr\"><div class=\"lounge_item_wrap__1tfod\"><button class=\"lounge_item_lounge__1VWSu\" type=\"button\"><span class=\"lounge_item_rank_area__9CMsX\"><strong class=\"lounge_item_rank__2O7_v\">1</strong><span class=\"lounge_item_rank_status__3x80u lounge_item_equal__21vne\"></span></span><span class=\"lounge_item_thumbnail_area__1aAHo\" style='background-image: url(\"https://nng-phinf.pstatic.net/MjAyMTA5MDhfMTk3/MDAxNjMxMDY4NDk3MzYx.xJYcVzRN9rJhjo_Wk3glFkqgEEQYbCAxnd49BK_L5dwg.0drLMwYFCWTAYc7e0Cy0zQUEWC-kFXEM79k__1uN7Ukg.PNG/League_of_Legends.png\"), url(\"https://nng-phinf.pstatic.net/MjAyMTA0MzBfNjAg/MDAxNjE5NzczMzI0OTEx.yZhA1c6Slf68dURtJLkXZFC7RDx-jFCR9zrQcXNgWx0g.XhMJO6ugRer_fgHuKUgh9imNUp1FjyESWxYWNlOUuTMg.PNG/150-x-1502x.png\");'></span><span class=\"lounge_item_info__3kf7q\"><span class=\"lounge_item_name_wrap__1C2mF\"><strong class=\"lounge_item_name__2SBpA\">리그 오브 레전드</strong></span><span class=\"lounge_item_sub__29Ye0\">MOBA</span></span></button><div class=\"lounge_item_bookmark_area__1_gjz\"><button class=\"bookmark_button__1YPAR\" type=\"button\"><span class=\"blind\">즐겨찾기 추가</span></button></div></div></li>\n"
     ]
    }
   ],
   "source": [
    "game_list = soup.select(\"#root > div > div.ranking_container__2XBZD > div > div.ranking_list_wrap__3E2TP > ol > li\")\n",
    "print(len(game_list))\n",
    "print(game_list[0])\n"
   ]
  },
  {
   "cell_type": "code",
   "execution_count": 37,
   "metadata": {},
   "outputs": [
    {
     "name": "stdout",
     "output_type": "stream",
     "text": [
      "[<strong class=\"lounge_item_name__2SBpA\">리그 오브 레전드</strong>]\n",
      "리그 오브 레전드\n"
     ]
    }
   ],
   "source": [
    "game_name = game_list[0].select(\".lounge_item_name__2SBpA\")\n",
    "print(game_name)\n",
    "# print(game_name[0].text)\n",
    "# print(game_name.text)\n",
    "for i in range(len(game_name)):\n",
    "    print(game_name[i].text)\n"
   ]
  },
  {
   "cell_type": "code",
   "execution_count": 45,
   "metadata": {},
   "outputs": [
    {
     "name": "stdout",
     "output_type": "stream",
     "text": [
      "<span class=\"lounge_item_rank_status__3x80u lounge_item_equal__21vne\"></span>\n",
      "lounge_item_equal__21vne\n",
      "equal\n"
     ]
    }
   ],
   "source": [
    "game_rank_status = game_list[0].select(\".lounge_item_rank_status__3x80u\")[0]\n",
    "print(game_rank_status)\n",
    "print(game_rank_status.get_attribute_list(\"class\")[1])\n",
    "print(game_rank_status.get_attribute_list(\"class\")[1].split(\"_\")[2])"
   ]
  },
  {
   "cell_type": "markdown",
   "metadata": {},
   "source": [
    "# 읽은 내용 정리해서 스프레드시트에 올리기"
   ]
  },
  {
   "cell_type": "code",
   "execution_count": 52,
   "metadata": {},
   "outputs": [],
   "source": [
    "rank_list = []\n",
    "change_list = []\n",
    "name_list = []\n",
    "genre_list = []\n",
    "\n",
    "for i in range(len(game_list)):\n",
    "    # 순위\n",
    "    game_rank = game_list[i].select(\".lounge_item_rank_area__9CMsX > strong\")[0].text\n",
    "    \n",
    "    # 변동\n",
    "    game_rank_status = game_list[i].select(\".lounge_item_rank_status__3x80u\")[0].get_attribute_list(\"class\")[1].split(\"_\")[2]\n",
    "    if game_rank_status == \"equal\":\n",
    "        game_rank_change = 0\n",
    "    elif game_rank_status == \"up\":\n",
    "        game_rank_change = int(game_list[i].select(\".lounge_item_rank_status__3x80u\")[0].text)\n",
    "    else:\n",
    "        game_rank_change = (-1) * int(game_list[i].select(\".lounge_item_rank_status__3x80u\")[0].text)\n",
    "    \n",
    "    # 게임이름\n",
    "    game_name = game_list[i].select(\".lounge_item_name__2SBpA\")[0].text\n",
    "\n",
    "    # 게임장르\n",
    "    game_genre = game_list[i].select(\".lounge_item_sub__29Ye0\")[0].text\n",
    "    \n",
    "    rank_list.append(game_rank)\n",
    "    change_list.append(game_rank_change)\n",
    "    name_list.append(game_name)\n",
    "    genre_list.append(game_genre)\n",
    "    # print(game_rank, game_rank_change, game_name, game_genre)\n",
    "\n",
    "game_df = pd.DataFrame(\n",
    "    data={\n",
    "        \"순위\":rank_list,\n",
    "        \"순위변동\":change_list,\n",
    "        \"게임명\":name_list,\n",
    "        \"장르\":genre_list\n",
    "    }\n",
    ")\n"
   ]
  },
  {
   "cell_type": "code",
   "execution_count": 53,
   "metadata": {},
   "outputs": [
    {
     "data": {
      "text/html": [
       "<div>\n",
       "<style scoped>\n",
       "    .dataframe tbody tr th:only-of-type {\n",
       "        vertical-align: middle;\n",
       "    }\n",
       "\n",
       "    .dataframe tbody tr th {\n",
       "        vertical-align: top;\n",
       "    }\n",
       "\n",
       "    .dataframe thead th {\n",
       "        text-align: right;\n",
       "    }\n",
       "</style>\n",
       "<table border=\"1\" class=\"dataframe\">\n",
       "  <thead>\n",
       "    <tr style=\"text-align: right;\">\n",
       "      <th></th>\n",
       "      <th>순위</th>\n",
       "      <th>순위변동</th>\n",
       "      <th>게임명</th>\n",
       "      <th>장르</th>\n",
       "    </tr>\n",
       "  </thead>\n",
       "  <tbody>\n",
       "    <tr>\n",
       "      <th>0</th>\n",
       "      <td>1</td>\n",
       "      <td>0</td>\n",
       "      <td>리그 오브 레전드</td>\n",
       "      <td>MOBA</td>\n",
       "    </tr>\n",
       "    <tr>\n",
       "      <th>1</th>\n",
       "      <td>2</td>\n",
       "      <td>0</td>\n",
       "      <td>트리 오브 세이비어 M</td>\n",
       "      <td>MMORPG</td>\n",
       "    </tr>\n",
       "    <tr>\n",
       "      <th>2</th>\n",
       "      <td>3</td>\n",
       "      <td>8</td>\n",
       "      <td>승리의 여신: 니케</td>\n",
       "      <td>FPS/TPS</td>\n",
       "    </tr>\n",
       "    <tr>\n",
       "      <th>3</th>\n",
       "      <td>4</td>\n",
       "      <td>-1</td>\n",
       "      <td>네이버 게임 오리지널 시리즈</td>\n",
       "      <td>독점 콘텐츠를 즐겨보세요</td>\n",
       "    </tr>\n",
       "    <tr>\n",
       "      <th>4</th>\n",
       "      <td>5</td>\n",
       "      <td>-1</td>\n",
       "      <td>PUBG: 배틀그라운드</td>\n",
       "      <td>서바이벌 슈팅</td>\n",
       "    </tr>\n",
       "  </tbody>\n",
       "</table>\n",
       "</div>"
      ],
      "text/plain": [
       "  순위  순위변동              게임명             장르\n",
       "0  1     0        리그 오브 레전드           MOBA\n",
       "1  2     0     트리 오브 세이비어 M         MMORPG\n",
       "2  3     8       승리의 여신: 니케        FPS/TPS\n",
       "3  4    -1  네이버 게임 오리지널 시리즈  독점 콘텐츠를 즐겨보세요\n",
       "4  5    -1     PUBG: 배틀그라운드        서바이벌 슈팅"
      ]
     },
     "execution_count": 53,
     "metadata": {},
     "output_type": "execute_result"
    }
   ],
   "source": [
    "game_df.head()"
   ]
  },
  {
   "cell_type": "code",
   "execution_count": 54,
   "metadata": {},
   "outputs": [
    {
     "name": "stdout",
     "output_type": "stream",
     "text": [
      "<HttpError 400 when requesting https://sheets.googleapis.com/v4/spreadsheets/1l1LhuVXF5WmRX2V-LnJArAYN3Gc_4mMSWKcCO---Sxg/values/%EA%B2%8C%EC%9E%84%EC%9E%A5%EB%A5%B4_%EC%8A%B9%EC%95%84_20221104%21A1?valueInputOption=USER_ENTERED&alt=json returned \"Unable to parse range: 게임장르_승아_20221104!A1\". Details: \"Unable to parse range: 게임장르_승아_20221104!A1\">\n"
     ]
    }
   ],
   "source": [
    "import datetime\n",
    "import pandas as pd\n",
    "from oauth2client.service_account import ServiceAccountCredentials\n",
    "\n",
    "from sa_package.my_gspread import get_df_from_gspread, write_df_to_sh, create_worksheet\n",
    "\n",
    "\n",
    "SCOPE = [\"https://spreadsheets.google.com/feeds\",\n",
    "        \"https://www.googleapis.com/auth/drive\"]\n",
    "CREDS = ServiceAccountCredentials.from_json_keyfile_name(\"C:/Users/SANDBOX/sandbox_workspace/data_management/dm_workshop/coding_day/key.json\", SCOPE)\n",
    "SH_ID = \"1l1LhuVXF5WmRX2V-LnJArAYN3Gc_4mMSWKcCO---Sxg\"\n",
    "\n",
    "create_worksheet(\n",
    "    sh_id=SH_ID,\n",
    "    worksheet_name=f\"게임장르_승아_{datetime.date.today().strftime('%Y%m%d')}\",\n",
    "    creds=CREDS\n",
    ")\n",
    "write_df_to_sh(\n",
    "    sh_id=SH_ID,\n",
    "    worksheet_name=f\"게임장르_승아_{datetime.date.today().strftime('%Y%m%d')}\",\n",
    "    df=game_df,\n",
    "    include_header=True,\n",
    "    creds=CREDS\n",
    ")"
   ]
  }
 ],
 "metadata": {
  "kernelspec": {
   "display_name": "Python 3.9.13 ('coding_day_conda')",
   "language": "python",
   "name": "python3"
  },
  "language_info": {
   "codemirror_mode": {
    "name": "ipython",
    "version": 3
   },
   "file_extension": ".py",
   "mimetype": "text/x-python",
   "name": "python",
   "nbconvert_exporter": "python",
   "pygments_lexer": "ipython3",
   "version": "3.9.13"
  },
  "orig_nbformat": 4,
  "vscode": {
   "interpreter": {
    "hash": "5117a1db902477c4f3c0e2233aad3365d8be95d056e207dee73b7978aa68a79b"
   }
  }
 },
 "nbformat": 4,
 "nbformat_minor": 2
}
